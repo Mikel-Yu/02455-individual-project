{
 "cells": [
  {
   "cell_type": "code",
   "execution_count": 3,
   "metadata": {},
   "outputs": [],
   "source": [
    "\n",
    "import pandas as pd\n",
    "import numpy as np\n",
    "import statsmodels.api as sm\n",
    "from sklearn.ensemble import RandomForestClassifier, RandomForestRegressor\n",
    "from sklearn.linear_model import LinearRegression\n",
    "from sklearn.preprocessing import StandardScaler, LabelEncoder\n",
    "from sklearn.metrics import accuracy_score, precision_score, recall_score, f1_score, roc_auc_score, mean_squared_error\n",
    "from sklearn.pipeline import Pipeline\n",
    "import tensorflow as tf\n",
    "from tensorflow.keras.models import Sequential\n",
    "from tensorflow.keras.layers import Dense\n",
    "from scipy.stats import ttest_rel\n",
    "import matplotlib.pyplot as plt\n",
    "from sklearn.metrics import classification_report, confusion_matrix\n",
    "from sklearn import model_selection\n",
    "import copy\n",
    "\n",
    "# Assuming X_train, X_test, y_train, y_test are already defined\n",
    "\n",
    "# Linear Regression\n",
    "lr_model = LinearRegression()\n",
    "lr_model.fit(X_train, y_train)\n",
    "lr_predictions = lr_model.predict(X_test)\n",
    "\n",
    "# Evaluate the model\n",
    "mse = mean_squared_error(y_test, lr_predictions)\n",
    "rmse = np.sqrt(mse)\n",
    "\n",
    "print(f'Mean Squared Error: {mse}')\n",
    "print(f'Root Mean Squared Error: {rmse}')\n"
   ]
  },
  {
   "cell_type": "markdown",
   "metadata": {},
   "source": [
    "# Load data"
   ]
  },
  {
   "cell_type": "code",
   "execution_count": 4,
   "metadata": {},
   "outputs": [
    {
     "name": "stdout",
     "output_type": "stream",
     "text": [
      "   Unnamed: 0    HR_Mean  HR_Median    HR_std  HR_Min  HR_Max     HR_AUC  \\\n",
      "0           0  77.965186      78.00  3.345290   73.23   83.37  22924.945   \n",
      "1           1  70.981097      70.57  2.517879   67.12   78.22  21930.400   \n",
      "2           2  73.371959      73.36  3.259569   67.88   80.22  21647.085   \n",
      "3           3  78.916822      77.88  4.054595   72.32   84.92  25258.905   \n",
      "4           4  77.322226      74.55  6.047603   70.52   90.15  23890.565   \n",
      "\n",
      "     Round   Phase  Individual  Puzzler  Frustrated Cohort  \n",
      "0  round_3  phase3           1        1           1   D1_1  \n",
      "1  round_3  phase2           1        1           5   D1_1  \n",
      "2  round_3  phase1           1        1           0   D1_1  \n",
      "3  round_2  phase3           1        1           1   D1_1  \n",
      "4  round_2  phase2           1        1           5   D1_1  \n"
     ]
    }
   ],
   "source": [
    "# Mikel path\n",
    "df = pd.read_csv('/Users/mikelyu/Desktop/Uni/02455 Statistical Evaluation/02455-projects/HR_data.csv')\n",
    "\n",
    "# Karl path\n",
    "#df = pd.read_csv(r\"C:\\desktop\\02455-projects\\HR_data.csv\")\n",
    "\n",
    "print(df.head())"
   ]
  },
  {
   "cell_type": "markdown",
   "metadata": {},
   "source": [
    "No missing values."
   ]
  },
  {
   "cell_type": "code",
   "execution_count": 5,
   "metadata": {},
   "outputs": [
    {
     "data": {
      "image/png": "[encoded data removed]",
      "text/plain": [
       "<Figure size 640x480 with 1 Axes>"
      ]
     },
     "metadata": {},
     "output_type": "display_data"
    }
   ],
   "source": [
    "min_value = df['Frustrated'].min()\n",
    "max_value = df['Frustrated'].max()\n",
    "bin_edges = np.arange(min_value - 0.5, max_value + 1.5, 1)  # Add and subtract 0.5 to center bins\n",
    "\n",
    "# Create the histogram with customized settings\n",
    "plt.hist(df['Frustrated'], bins=bin_edges, align='mid', rwidth=0.8)  # Adjust rwidth for spacing\n",
    "\n",
    "# Customize tick marks and labels\n",
    "plt.xticks(range(min_value, max_value + 1)) \n",
    "plt.xlabel('Frustrated')\n",
    "plt.ylabel('Frequency')\n",
    "plt.show()"
   ]
  },
  {
   "cell_type": "markdown",
   "metadata": {},
   "source": [
    "# visualization"
   ]
  },
  {
   "cell_type": "markdown",
   "metadata": {},
   "source": [
    "Frustration is discrete variable. Therefore, each value from 0-10 can be seen as a discrete and separated value. We can thus view this as a classification problem. Therefore, we will attempt to fit two classification models to the data."
   ]
  },
  {
   "cell_type": "markdown",
   "metadata": {},
   "source": [
    "# Models"
   ]
  },
  {
   "cell_type": "markdown",
   "metadata": {},
   "source": [
    "## Classification"
   ]
  },
  {
   "cell_type": "code",
   "execution_count": 6,
   "metadata": {},
   "outputs": [
    {
     "name": "stdout",
     "output_type": "stream",
     "text": [
      "   Unnamed: 0    HR_Mean  HR_Median    HR_std  HR_Min  HR_Max     HR_AUC  \\\n",
      "0           0  77.965186      78.00  3.345290   73.23   83.37  22924.945   \n",
      "1           1  70.981097      70.57  2.517879   67.12   78.22  21930.400   \n",
      "2           2  73.371959      73.36  3.259569   67.88   80.22  21647.085   \n",
      "3           3  78.916822      77.88  4.054595   72.32   84.92  25258.905   \n",
      "4           4  77.322226      74.55  6.047603   70.52   90.15  23890.565   \n",
      "\n",
      "     Round   Phase  Individual  Puzzler  Frustrated Cohort  \n",
      "0  round_3  phase3           1        1           1   D1_1  \n",
      "1  round_3  phase2           1        1           5   D1_1  \n",
      "2  round_3  phase1           1        1           0   D1_1  \n",
      "3  round_2  phase3           1        1           1   D1_1  \n",
      "4  round_2  phase2           1        1           5   D1_1  \n",
      "<class 'pandas.core.frame.DataFrame'>\n",
      "RangeIndex: 168 entries, 0 to 167\n",
      "Data columns (total 13 columns):\n",
      " #   Column      Non-Null Count  Dtype  \n",
      "---  ------      --------------  -----  \n",
      " 0   Unnamed: 0  168 non-null    int64  \n",
      " 1   HR_Mean     168 non-null    float64\n",
      " 2   HR_Median   168 non-null    float64\n",
      " 3   HR_std      168 non-null    float64\n",
      " 4   HR_Min      168 non-null    float64\n",
      " 5   HR_Max      168 non-null    float64\n",
      " 6   HR_AUC      168 non-null    float64\n",
      " 7   Round       168 non-null    object \n",
      " 8   Phase       168 non-null    object \n",
      " 9   Individual  168 non-null    int64  \n",
      " 10  Puzzler     168 non-null    int64  \n",
      " 11  Frustrated  168 non-null    int64  \n",
      " 12  Cohort      168 non-null    object \n",
      "dtypes: float64(6), int64(4), object(3)\n",
      "memory usage: 17.2+ KB\n",
      "None\n"
     ]
    },
    {
     "data": {
      "text/html": [
       "<div>\n",
       "<style scoped>\n",
       "    .dataframe tbody tr th:only-of-type {\n",
       "        vertical-align: middle;\n",
       "    }\n",
       "\n",
       "    .dataframe tbody tr th {\n",
       "        vertical-align: top;\n",
       "    }\n",
       "\n",
       "    .dataframe thead th {\n",
       "        text-align: right;\n",
       "    }\n",
       "</style>\n",
       "<table border=\"1\" class=\"dataframe\">\n",
       "  <thead>\n",
       "    <tr style=\"text-align: right;\">\n",
       "      <th></th>\n",
       "      <th>HR_Mean</th>\n",
       "      <th>HR_Median</th>\n",
       "      <th>HR_std</th>\n",
       "      <th>HR_Min</th>\n",
       "      <th>HR_Max</th>\n",
       "      <th>HR_AUC</th>\n",
       "    </tr>\n",
       "  </thead>\n",
       "  <tbody>\n",
       "    <tr>\n",
       "      <th>0</th>\n",
       "      <td>77.965186</td>\n",
       "      <td>78.000</td>\n",
       "      <td>3.345290</td>\n",
       "      <td>73.23</td>\n",
       "      <td>83.37</td>\n",
       "      <td>22924.945</td>\n",
       "    </tr>\n",
       "    <tr>\n",
       "      <th>1</th>\n",
       "      <td>70.981097</td>\n",
       "      <td>70.570</td>\n",
       "      <td>2.517879</td>\n",
       "      <td>67.12</td>\n",
       "      <td>78.22</td>\n",
       "      <td>21930.400</td>\n",
       "    </tr>\n",
       "    <tr>\n",
       "      <th>2</th>\n",
       "      <td>73.371959</td>\n",
       "      <td>73.360</td>\n",
       "      <td>3.259569</td>\n",
       "      <td>67.88</td>\n",
       "      <td>80.22</td>\n",
       "      <td>21647.085</td>\n",
       "    </tr>\n",
       "    <tr>\n",
       "      <th>3</th>\n",
       "      <td>78.916822</td>\n",
       "      <td>77.880</td>\n",
       "      <td>4.054595</td>\n",
       "      <td>72.32</td>\n",
       "      <td>84.92</td>\n",
       "      <td>25258.905</td>\n",
       "    </tr>\n",
       "    <tr>\n",
       "      <th>4</th>\n",
       "      <td>77.322226</td>\n",
       "      <td>74.550</td>\n",
       "      <td>6.047603</td>\n",
       "      <td>70.52</td>\n",
       "      <td>90.15</td>\n",
       "      <td>23890.565</td>\n",
       "    </tr>\n",
       "    <tr>\n",
       "      <th>...</th>\n",
       "      <td>...</td>\n",
       "      <td>...</td>\n",
       "      <td>...</td>\n",
       "      <td>...</td>\n",
       "      <td>...</td>\n",
       "      <td>...</td>\n",
       "    </tr>\n",
       "    <tr>\n",
       "      <th>163</th>\n",
       "      <td>73.594539</td>\n",
       "      <td>72.380</td>\n",
       "      <td>9.474556</td>\n",
       "      <td>57.43</td>\n",
       "      <td>93.53</td>\n",
       "      <td>21482.985</td>\n",
       "    </tr>\n",
       "    <tr>\n",
       "      <th>164</th>\n",
       "      <td>57.839897</td>\n",
       "      <td>54.130</td>\n",
       "      <td>6.796647</td>\n",
       "      <td>52.97</td>\n",
       "      <td>74.14</td>\n",
       "      <td>16825.740</td>\n",
       "    </tr>\n",
       "    <tr>\n",
       "      <th>165</th>\n",
       "      <td>64.237295</td>\n",
       "      <td>65.195</td>\n",
       "      <td>3.589241</td>\n",
       "      <td>58.97</td>\n",
       "      <td>72.63</td>\n",
       "      <td>18691.065</td>\n",
       "    </tr>\n",
       "    <tr>\n",
       "      <th>166</th>\n",
       "      <td>70.834320</td>\n",
       "      <td>70.440</td>\n",
       "      <td>2.391160</td>\n",
       "      <td>66.65</td>\n",
       "      <td>76.07</td>\n",
       "      <td>20753.005</td>\n",
       "    </tr>\n",
       "    <tr>\n",
       "      <th>167</th>\n",
       "      <td>71.133878</td>\n",
       "      <td>69.225</td>\n",
       "      <td>14.069337</td>\n",
       "      <td>57.17</td>\n",
       "      <td>114.33</td>\n",
       "      <td>20820.320</td>\n",
       "    </tr>\n",
       "  </tbody>\n",
       "</table>\n",
       "<p>168 rows × 6 columns</p>\n",
       "</div>"
      ],
      "text/plain": [
       "       HR_Mean  HR_Median     HR_std  HR_Min  HR_Max     HR_AUC\n",
       "0    77.965186     78.000   3.345290   73.23   83.37  22924.945\n",
       "1    70.981097     70.570   2.517879   67.12   78.22  21930.400\n",
       "2    73.371959     73.360   3.259569   67.88   80.22  21647.085\n",
       "3    78.916822     77.880   4.054595   72.32   84.92  25258.905\n",
       "4    77.322226     74.550   6.047603   70.52   90.15  23890.565\n",
       "..         ...        ...        ...     ...     ...        ...\n",
       "163  73.594539     72.380   9.474556   57.43   93.53  21482.985\n",
       "164  57.839897     54.130   6.796647   52.97   74.14  16825.740\n",
       "165  64.237295     65.195   3.589241   58.97   72.63  18691.065\n",
       "166  70.834320     70.440   2.391160   66.65   76.07  20753.005\n",
       "167  71.133878     69.225  14.069337   57.17  114.33  20820.320\n",
       "\n",
       "[168 rows x 6 columns]"
      ]
     },
     "execution_count": 6,
     "metadata": {},
     "output_type": "execute_result"
    }
   ],
   "source": [
    "# Display the first few rows of the dataframe\n",
    "print(df.head())\n",
    "\n",
    "# Display information about the dataframe\n",
    "print(df.info())\n",
    "\n",
    "X = df.drop([\"Unnamed: 0\",'Frustrated',\"Individual\",\"Puzzler\",\"Cohort\",\"Phase\",\"Round\"], axis=1)\n",
    "\n",
    "X"
   ]
  },
  {
   "cell_type": "code",
   "execution_count": 7,
   "metadata": {},
   "outputs": [],
   "source": [
    "y = df['Frustrated']"
   ]
  },
  {
   "cell_type": "code",
   "execution_count": 8,
   "metadata": {},
   "outputs": [
    {
     "name": "stdout",
     "output_type": "stream",
     "text": [
      "HR_Mean      2.379049e-16\n",
      "HR_Median   -7.850863e-16\n",
      "HR_std      -5.815454e-17\n",
      "HR_Min      -8.035900e-16\n",
      "HR_Max      -1.015061e-15\n",
      "HR_AUC      -4.546628e-16\n",
      "dtype: float64\n",
      "HR_Mean      1.00299\n",
      "HR_Median    1.00299\n",
      "HR_std       1.00299\n",
      "HR_Min       1.00299\n",
      "HR_Max       1.00299\n",
      "HR_AUC       1.00299\n",
      "dtype: float64\n"
     ]
    }
   ],
   "source": [
    "from sklearn.preprocessing import StandardScaler\n",
    "\n",
    "numeric_columns = X.select_dtypes(include=['float64', 'int64']).columns\n",
    "\n",
    "scaler = StandardScaler()\n",
    "X[numeric_columns] = scaler.fit_transform(X[numeric_columns])\n",
    "\n",
    "# Check mean and standard deviation\n",
    "print(X[numeric_columns].mean())\n",
    "print(X[numeric_columns].std())\n"
   ]
  },
  {
   "cell_type": "code",
   "execution_count": 9,
   "metadata": {},
   "outputs": [
    {
     "data": {
      "text/plain": [
       "Frustrated\n",
       "1    45\n",
       "2    31\n",
       "0    29\n",
       "4    23\n",
       "3    16\n",
       "5    14\n",
       "6     5\n",
       "8     3\n",
       "7     2\n",
       "Name: count, dtype: int64"
      ]
     },
     "execution_count": 9,
     "metadata": {},
     "output_type": "execute_result"
    }
   ],
   "source": [
    "y.value_counts()"
   ]
  },
  {
   "cell_type": "code",
   "execution_count": 10,
   "metadata": {},
   "outputs": [],
   "source": [
    "X_R = []\n",
    "for i in range(14):\n",
    "    globals()[f'individual_{i}'] = X[(i*12):((i+1)*12)]\n",
    "    X_R.append(globals()[f'individual_{i}'])\n",
    "\n",
    "y_R = []\n",
    "\n",
    "for i in range(14):\n",
    "    y_R.append(y[(i*12):((i+1)*12)])"
   ]
  },
  {
   "cell_type": "code",
   "execution_count": 11,
   "metadata": {},
   "outputs": [
    {
     "name": "stdout",
     "output_type": "stream",
     "text": [
      "Accuracy: 0.1667\n"
     ]
    }
   ],
   "source": [
    "# Initialize lists to hold results\n",
    "y_true = []\n",
    "y_pred = []\n",
    "\n",
    "i = 0\n",
    "\n",
    "X_test = X_R[i]\n",
    "X_train_p = copy.deepcopy(X_R)\n",
    "X_train_p.pop(i)\n",
    "\n",
    "y_test = y_R[i]\n",
    "y_train_p = copy.deepcopy(y_R)\n",
    "y_train_p.pop(i)\n",
    "\n",
    "X_train = pd.concat(X_train_p)\n",
    "y_train = pd.concat(y_train_p)\n",
    "\n",
    "# Initialize and train the model\n",
    "model = RandomForestClassifier(n_estimators=100, random_state=42)\n",
    "model.fit(X_train, y_train)\n",
    "\n",
    "# Make predictions\n",
    "y_pred.append(model.predict(X_test))\n",
    "y_true.append(y_test.values)\n",
    "\n",
    "# Calculate accuracy\n",
    "accuracy = accuracy_score(y_true[0], y_pred[0])\n",
    "print(f'Accuracy: {accuracy:.4f}')"
   ]
  },
  {
   "cell_type": "code",
   "execution_count": 12,
   "metadata": {},
   "outputs": [],
   "source": [
    "# Initialize lists to hold results\n",
    "accuracy_RF = []\n",
    "# Perform LOOCV\n",
    "for i in range(len(X_R)):\n",
    "    y_true = []\n",
    "    y_pred = []\n",
    "    X_test = X_R[i]\n",
    "    X_train_p = copy.deepcopy(X_R)\n",
    "    X_train_p.pop(i)\n",
    "\n",
    "    y_test = y_R[i]\n",
    "    y_train_p = copy.deepcopy(y_R)\n",
    "    y_train_p.pop(i)\n",
    "\n",
    "    X_train = pd.concat(X_train_p)\n",
    "    y_train = pd.concat(y_train_p)\n",
    "\n",
    "    # Initialize and train the model\n",
    "    model = RandomForestClassifier(n_estimators=100, random_state=42)\n",
    "    model.fit(X_train, y_train)\n",
    "\n",
    "    # Make predictions\n",
    "    y_pred.append(model.predict(X_test))\n",
    "    y_true.append(y_test.values)\n",
    "\n",
    "    accuracy_RF.append(accuracy_score(y_true[0], y_pred[0]))"
   ]
  },
  {
   "cell_type": "code",
   "execution_count": 13,
   "metadata": {},
   "outputs": [],
   "source": [
    "# Initialize lists to hold results\n",
    "accuracy_LR = []\n",
    "\n",
    "# Perform LOOCV\n",
    "for i in range(len(X_R)):\n",
    "    y_true = []\n",
    "    y_pred = []\n",
    "    X_test = X_R[i]\n",
    "    X_train_p = copy.deepcopy(X_R)\n",
    "    X_train_p.pop(i)\n",
    "\n",
    "    y_test = y_R[i]\n",
    "    y_train_p = copy.deepcopy(y_R)\n",
    "    y_train_p.pop(i)\n",
    "\n",
    "    X_train = pd.concat(X_train_p)\n",
    "    y_train = pd.concat(y_train_p)\n",
    "\n",
    "    # Initialize and train the model\n",
    "    model = LogisticRegression(random_state=42, max_iter=100000)\n",
    "    model.fit(X_train, y_train)\n",
    "\n",
    "    # Make predictions\n",
    "    y_pred.append(model.predict(X_test))\n",
    "    y_true.append(y_test.values)\n",
    "\n",
    "    accuracy_LR.append(accuracy_score(y_true[0],y_pred[0]))"
   ]
  },
  {
   "cell_type": "code",
   "execution_count": 14,
   "metadata": {},
   "outputs": [],
   "source": [
    "# Initialize lists to hold results\n",
    "accuracy_BL = []\n",
    "mk1 = []\n",
    "mk2 = []\n",
    "\n",
    "# Perform LOOCV\n",
    "for i in range(len(X_R)):\n",
    "    y_true = []\n",
    "    y_pred = []\n",
    "\n",
    "    y_test = y_R[i]\n",
    "    y_train_p = copy.deepcopy(y_R)\n",
    "    y_train_p.pop(i)\n",
    "\n",
    "    X_train = pd.concat(X_train_p)\n",
    "    y_train = pd.concat(y_train_p)\n",
    "\n",
    "    # Initialize and train the model\n",
    "    class_0 = 0\n",
    "    class_1 = 0\n",
    "    for i in range(len(y_train)):\n",
    "        if y_train.iat[i] > 0.5:\n",
    "            class_1 += 1\n",
    "        else:\n",
    "            class_0 += 1\n",
    "    \n",
    "    C1 = False\n",
    "\n",
    "    if class_1 > class_0:\n",
    "        C1 = True\n",
    "\n",
    "    \n",
    "    if C1 == True:\n",
    "        y_pred = [pd.DataFrame([1]*len(y_test))]\n",
    "    else:\n",
    "        y_pred = [pd.DataFrame([0]*len(y_test))]\n",
    "            \n",
    "\n",
    "    # Make predictions\n",
    "    y_true.append(y_test.values)\n",
    "\n",
    "    accuracy_BL.append(accuracy_score(y_true[0],y_pred[0]))\n",
    "    "
   ]
  },
  {
   "cell_type": "code",
   "execution_count": 15,
   "metadata": {},
   "outputs": [
    {
     "data": {
      "text/plain": [
       "0.26785714285714285"
      ]
     },
     "execution_count": 15,
     "metadata": {},
     "output_type": "execute_result"
    }
   ],
   "source": [
    "np.mean(accuracy_BL)"
   ]
  },
  {
   "cell_type": "code",
   "execution_count": 16,
   "metadata": {},
   "outputs": [],
   "source": [
    "from scipy.stats import ttest_rel\n",
    "t_statistic, p_value = ttest_rel(accuracy_RF, accuracy_LR)\n"
   ]
  },
  {
   "cell_type": "code",
   "execution_count": 17,
   "metadata": {},
   "outputs": [
    {
     "data": {
      "text/plain": [
       "0.17261904761904762"
      ]
     },
     "execution_count": 17,
     "metadata": {},
     "output_type": "execute_result"
    }
   ],
   "source": [
    "np.mean(accuracy_LR)"
   ]
  },
  {
   "cell_type": "code",
   "execution_count": 18,
   "metadata": {},
   "outputs": [
    {
     "data": {
      "text/plain": [
       "0.14880952380952378"
      ]
     },
     "execution_count": 18,
     "metadata": {},
     "output_type": "execute_result"
    }
   ],
   "source": [
    "np.mean(accuracy_RF)"
   ]
  }
 ],
 "metadata": {
  "kernelspec": {
   "display_name": "Python 3",
   "language": "python",
   "name": "python3"
  },
  "language_info": {
   "codemirror_mode": {
    "name": "ipython",
    "version": 3
   },
   "file_extension": ".py",
   "mimetype": "text/x-python",
   "name": "python",
   "nbconvert_exporter": "python",
   "pygments_lexer": "ipython3",
   "version": "3.11.5"
  }
 },
 "nbformat": 4,
 "nbformat_minor": 2
}
