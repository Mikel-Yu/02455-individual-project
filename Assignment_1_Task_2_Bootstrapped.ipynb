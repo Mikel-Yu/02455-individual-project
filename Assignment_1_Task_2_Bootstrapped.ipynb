{
 "cells": [
  {
   "cell_type": "code",
   "execution_count": 10,
   "metadata": {},
   "outputs": [],
   "source": [
    "import pandas as pd\n",
    "import numpy as np\n",
    "import statsmodels.api as sm\n",
    "from sklearn.ensemble import RandomForestClassifier, RandomForestRegressor\n",
    "from sklearn.linear_model import LogisticRegression\n",
    "from sklearn.preprocessing import StandardScaler, LabelEncoder\n",
    "from sklearn.metrics import accuracy_score, precision_score, recall_score, f1_score, roc_auc_score, mean_squared_error\n",
    "from sklearn.pipeline import Pipeline\n",
    "import tensorflow as tf\n",
    "from tensorflow.keras.models import Sequential\n",
    "from tensorflow.keras.layers import Dense\n",
    "from scipy.stats import ttest_rel\n",
    "import matplotlib.pyplot as plt\n",
    "from sklearn.metrics import classification_report, confusion_matrix\n",
    "from sklearn import model_selection\n",
    "from sklearn.preprocessing import StandardScaler\n",
    "import pandas as pd\n",
    "import numpy as np\n",
    "from sklearn.model_selection import GroupKFold, cross_val_score\n",
    "from sklearn.ensemble import RandomForestClassifier\n",
    "from sklearn.metrics import accuracy_score, precision_score, recall_score, f1_score, roc_auc_score\n",
    "import matplotlib.pyplot as plt"
   ]
  },
  {
   "cell_type": "markdown",
   "metadata": {},
   "source": [
    "# Load data"
   ]
  },
  {
   "cell_type": "code",
   "execution_count": 11,
   "id": "1c1a0676",
   "metadata": {},
   "outputs": [],
   "source": [
    "\n",
    "# Bootstrapping function\n",
    "def bootstrap(data, n_samples):\n",
    "    np.random.seed(0)  # For reproducibility\n",
    "    indices = np.random.choice(data.index, size=n_samples, replace=True)\n",
    "    return data.iloc[indices]\n",
    "\n",
    "# Example usage:\n",
    "# n_samples = len(data)  # Typically, the same number of samples as the original dataset\n",
    "# bootstrapped_data = bootstrap(data, n_samples)\n",
    "\n",
    "# Now we can use bootstrapped_data for modeling instead of the original data\n"
   ]
  },
  {
   "cell_type": "code",
   "execution_count": 14,
   "metadata": {},
   "outputs": [
    {
     "name": "stdout",
     "output_type": "stream",
     "text": [
      "   Unnamed: 0    HR_Mean  HR_Median    HR_std  HR_Min  HR_Max     HR_AUC  \\\n",
      "0           0  77.965186      78.00  3.345290   73.23   83.37  22924.945   \n",
      "1           1  70.981097      70.57  2.517879   67.12   78.22  21930.400   \n",
      "2           2  73.371959      73.36  3.259569   67.88   80.22  21647.085   \n",
      "3           3  78.916822      77.88  4.054595   72.32   84.92  25258.905   \n",
      "4           4  77.322226      74.55  6.047603   70.52   90.15  23890.565   \n",
      "\n",
      "     Round   Phase  Individual  Puzzler  Frustrated Cohort  \n",
      "0  round_3  phase3           1        1           1   D1_1  \n",
      "1  round_3  phase2           1        1           5   D1_1  \n",
      "2  round_3  phase1           1        1           0   D1_1  \n",
      "3  round_2  phase3           1        1           1   D1_1  \n",
      "4  round_2  phase2           1        1           5   D1_1  \n"
     ]
    }
   ],
   "source": [
    "data = pd.read_csv('/Users/mikelyu/Desktop/Uni/02455 Statistical Evaluation/02455-projects/HR_data.csv')\n",
    "\n",
    "# Display the first few rows of the dataset\n",
    "print(data.head())"
   ]
  },
  {
   "cell_type": "code",
   "execution_count": 13,
   "metadata": {},
   "outputs": [
    {
     "ename": "NameError",
     "evalue": "name 'bootstrapped_data' is not defined",
     "output_type": "error",
     "traceback": [
      "\u001b[0;31m---------------------------------------------------------------------------\u001b[0m",
      "\u001b[0;31mNameError\u001b[0m                                 Traceback (most recent call last)",
      "Cell \u001b[0;32mIn[13], line 2\u001b[0m\n\u001b[1;32m      1\u001b[0m \u001b[38;5;66;03m# Features and target\u001b[39;00m\n\u001b[0;32m----> 2\u001b[0m X \u001b[38;5;241m=\u001b[39m \u001b[43mbootstrapped_data\u001b[49m[[\u001b[38;5;124m'\u001b[39m\u001b[38;5;124mHR_Mean\u001b[39m\u001b[38;5;124m'\u001b[39m, \u001b[38;5;124m'\u001b[39m\u001b[38;5;124mHR_Median\u001b[39m\u001b[38;5;124m'\u001b[39m, \u001b[38;5;124m'\u001b[39m\u001b[38;5;124mHR_std\u001b[39m\u001b[38;5;124m'\u001b[39m, \u001b[38;5;124m'\u001b[39m\u001b[38;5;124mHR_Min\u001b[39m\u001b[38;5;124m'\u001b[39m, \u001b[38;5;124m'\u001b[39m\u001b[38;5;124mHR_Max\u001b[39m\u001b[38;5;124m'\u001b[39m, \u001b[38;5;124m'\u001b[39m\u001b[38;5;124mHR_AUC\u001b[39m\u001b[38;5;124m'\u001b[39m]]\n\u001b[1;32m      3\u001b[0m y \u001b[38;5;241m=\u001b[39m bootstrapped_data[\u001b[38;5;124m'\u001b[39m\u001b[38;5;124mFrustrated\u001b[39m\u001b[38;5;124m'\u001b[39m]\n\u001b[1;32m      4\u001b[0m groups \u001b[38;5;241m=\u001b[39m bootstrapped_data[\u001b[38;5;124m'\u001b[39m\u001b[38;5;124mIndividual\u001b[39m\u001b[38;5;124m'\u001b[39m]\n",
      "\u001b[0;31mNameError\u001b[0m: name 'bootstrapped_data' is not defined"
     ]
    }
   ],
   "source": [
    "# Features and target\n",
    "X = bootstrapped_data[['HR_Mean', 'HR_Median', 'HR_std', 'HR_Min', 'HR_Max', 'HR_AUC']]\n",
    "y = bootstrapped_data['Frustrated']\n",
    "groups = bootstrapped_data['Individual']\n",
    "\n",
    "# Model\n",
    "model = RandomForestClassifier()\n",
    "\n",
    "# GroupKFold with n_splits=14 (equivalent to Leave-One-Group-Out)\n",
    "group_kfold = GroupKFold(n_splits=14)\n",
    "\n",
    "# Cross-Validation Scores\n",
    "cv_results = {\n",
    "    \"accuracy\": [],\n",
    "    \"precision\": [],\n",
    "    \"recall\": [],\n",
    "    \"f1\": [],\n",
    "    \"roc_auc\": []\n",
    "}\n",
    "\n",
    "for train_idx, test_idx in group_kfold.split(X, y, groups):\n",
    "    X_train, X_test = X.iloc[train_idx], X.iloc[test_idx]\n",
    "    y_train, y_test = y.iloc[train_idx], y.iloc[test_idx]\n",
    "    \n",
    "    model.fit(X_train, y_train)\n",
    "    y_pred = model.predict(X_test)\n",
    "    y_prob = model.predict_proba(X_test)[:, 1]\n",
    "    \n",
    "    cv_results['accuracy'].append(accuracy_score(y_test, y_pred))\n",
    "    cv_results['precision'].append(precision_score(y_test, y_pred, average='weighted'))\n",
    "    cv_results['recall'].append(recall_score(y_test, y_pred, average='weighted'))\n",
    "    cv_results['f1'].append(f1_score(y_test, y_pred, average='weighted'))\n",
    "    cv_results['roc_auc'].append(roc_auc_score(y_test, y_prob, multi_class='ovr'))\n",
    "\n",
    "# Display Cross-Validation Scores\n",
    "for metric in cv_results:\n",
    "    print(f\"{metric.capitalize()} Scores: {cv_results[metric]}\")\n",
    "    print(f\"Mean {metric.capitalize()} Score: {np.mean(cv_results[metric])}\")\n",
    "\n",
    "# Box plot for visualizing the cross-validation scores\n",
    "plt.figure(figsize=(10, 6))\n",
    "plt.boxplot(cv_results.values(), labels=cv_results.keys())\n",
    "plt.title('Cross-Validation Scores')\n",
    "plt.ylabel('Score')\n",
    "plt.show()\n"
   ]
  }
 ],
 "metadata": {
  "kernelspec": {
   "display_name": "Python 3",
   "language": "python",
   "name": "python3"
  },
  "language_info": {
   "codemirror_mode": {
    "name": "ipython",
    "version": 3
   },
   "file_extension": ".py",
   "mimetype": "text/x-python",
   "name": "python",
   "nbconvert_exporter": "python",
   "pygments_lexer": "ipython3",
   "version": "3.11.5"
  }
 },
 "nbformat": 4,
 "nbformat_minor": 2
}
