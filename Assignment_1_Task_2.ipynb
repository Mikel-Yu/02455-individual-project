{
 "cells": [
  {
   "cell_type": "code",
   "execution_count": 2,
   "metadata": {},
   "outputs": [],
   "source": [
    "import pandas as pd\n",
    "import numpy as np\n",
    "from sklearn.model_selection import train_test_split, cross_val_score, StratifiedKFold\n",
    "from sklearn.ensemble import RandomForestClassifier\n",
    "from sklearn.linear_model import LogisticRegression\n",
    "from sklearn.preprocessing import StandardScaler, LabelEncoder\n",
    "from sklearn.metrics import accuracy_score, precision_score, recall_score, f1_score, roc_auc_score\n",
    "from sklearn.pipeline import Pipeline"
   ]
  },
  {
   "cell_type": "markdown",
   "metadata": {},
   "source": [
    "# Load data"
   ]
  },
  {
   "cell_type": "code",
   "execution_count": 3,
   "metadata": {},
   "outputs": [
    {
     "name": "stdout",
     "output_type": "stream",
     "text": [
      "   Unnamed: 0    HR_Mean  HR_Median    HR_std  HR_Min  HR_Max     HR_AUC  \\\n",
      "0           0  77.965186      78.00  3.345290   73.23   83.37  22924.945   \n",
      "1           1  70.981097      70.57  2.517879   67.12   78.22  21930.400   \n",
      "2           2  73.371959      73.36  3.259569   67.88   80.22  21647.085   \n",
      "3           3  78.916822      77.88  4.054595   72.32   84.92  25258.905   \n",
      "4           4  77.322226      74.55  6.047603   70.52   90.15  23890.565   \n",
      "\n",
      "     Round   Phase  Individual  Puzzler  Frustrated Cohort  \n",
      "0  round_3  phase3           1        1           1   D1_1  \n",
      "1  round_3  phase2           1        1           5   D1_1  \n",
      "2  round_3  phase1           1        1           0   D1_1  \n",
      "3  round_2  phase3           1        1           1   D1_1  \n",
      "4  round_2  phase2           1        1           5   D1_1  \n"
     ]
    }
   ],
   "source": [
    "data = pd.read_csv('/Users/mikelyu/Desktop/Uni/02455 Statistical Evaluation/02455-projects/HR_data.csv')\n",
    "\n",
    "# Display the first few rows of the dataset\n",
    "print(data.head())"
   ]
  },
  {
   "cell_type": "code",
   "execution_count": 4,
   "metadata": {},
   "outputs": [
    {
     "name": "stdout",
     "output_type": "stream",
     "text": [
      "Unnamed: 0    0\n",
      "HR_Mean       0\n",
      "HR_Median     0\n",
      "HR_std        0\n",
      "HR_Min        0\n",
      "HR_Max        0\n",
      "HR_AUC        0\n",
      "Round         0\n",
      "Phase         0\n",
      "Individual    0\n",
      "Puzzler       0\n",
      "Frustrated    0\n",
      "Cohort        0\n",
      "dtype: int64\n"
     ]
    }
   ],
   "source": [
    "# Check for missing values\n",
    "print(data.isnull().sum())"
   ]
  },
  {
   "cell_type": "markdown",
   "metadata": {},
   "source": [
    "No missing values."
   ]
  },
  {
   "cell_type": "code",
   "execution_count": 5,
   "metadata": {},
   "outputs": [
    {
     "data": {
      "text/html": [
       "<div>\n",
       "<style scoped>\n",
       "    .dataframe tbody tr th:only-of-type {\n",
       "        vertical-align: middle;\n",
       "    }\n",
       "\n",
       "    .dataframe tbody tr th {\n",
       "        vertical-align: top;\n",
       "    }\n",
       "\n",
       "    .dataframe thead th {\n",
       "        text-align: right;\n",
       "    }\n",
       "</style>\n",
       "<table border=\"1\" class=\"dataframe\">\n",
       "  <thead>\n",
       "    <tr style=\"text-align: right;\">\n",
       "      <th></th>\n",
       "      <th>Unnamed: 0</th>\n",
       "      <th>HR_Mean</th>\n",
       "      <th>HR_Median</th>\n",
       "      <th>HR_std</th>\n",
       "      <th>HR_Min</th>\n",
       "      <th>HR_Max</th>\n",
       "      <th>HR_AUC</th>\n",
       "      <th>Round</th>\n",
       "      <th>Phase</th>\n",
       "      <th>Individual</th>\n",
       "      <th>Frustrated</th>\n",
       "      <th>Puzzler_1</th>\n",
       "      <th>Cohort_D1_2</th>\n",
       "    </tr>\n",
       "  </thead>\n",
       "  <tbody>\n",
       "    <tr>\n",
       "      <th>0</th>\n",
       "      <td>0</td>\n",
       "      <td>77.965186</td>\n",
       "      <td>78.00</td>\n",
       "      <td>3.345290</td>\n",
       "      <td>73.23</td>\n",
       "      <td>83.37</td>\n",
       "      <td>22924.945</td>\n",
       "      <td>round_3</td>\n",
       "      <td>phase3</td>\n",
       "      <td>1</td>\n",
       "      <td>1</td>\n",
       "      <td>True</td>\n",
       "      <td>False</td>\n",
       "    </tr>\n",
       "    <tr>\n",
       "      <th>1</th>\n",
       "      <td>1</td>\n",
       "      <td>70.981097</td>\n",
       "      <td>70.57</td>\n",
       "      <td>2.517879</td>\n",
       "      <td>67.12</td>\n",
       "      <td>78.22</td>\n",
       "      <td>21930.400</td>\n",
       "      <td>round_3</td>\n",
       "      <td>phase2</td>\n",
       "      <td>1</td>\n",
       "      <td>5</td>\n",
       "      <td>True</td>\n",
       "      <td>False</td>\n",
       "    </tr>\n",
       "    <tr>\n",
       "      <th>2</th>\n",
       "      <td>2</td>\n",
       "      <td>73.371959</td>\n",
       "      <td>73.36</td>\n",
       "      <td>3.259569</td>\n",
       "      <td>67.88</td>\n",
       "      <td>80.22</td>\n",
       "      <td>21647.085</td>\n",
       "      <td>round_3</td>\n",
       "      <td>phase1</td>\n",
       "      <td>1</td>\n",
       "      <td>0</td>\n",
       "      <td>True</td>\n",
       "      <td>False</td>\n",
       "    </tr>\n",
       "    <tr>\n",
       "      <th>3</th>\n",
       "      <td>3</td>\n",
       "      <td>78.916822</td>\n",
       "      <td>77.88</td>\n",
       "      <td>4.054595</td>\n",
       "      <td>72.32</td>\n",
       "      <td>84.92</td>\n",
       "      <td>25258.905</td>\n",
       "      <td>round_2</td>\n",
       "      <td>phase3</td>\n",
       "      <td>1</td>\n",
       "      <td>1</td>\n",
       "      <td>True</td>\n",
       "      <td>False</td>\n",
       "    </tr>\n",
       "    <tr>\n",
       "      <th>4</th>\n",
       "      <td>4</td>\n",
       "      <td>77.322226</td>\n",
       "      <td>74.55</td>\n",
       "      <td>6.047603</td>\n",
       "      <td>70.52</td>\n",
       "      <td>90.15</td>\n",
       "      <td>23890.565</td>\n",
       "      <td>round_2</td>\n",
       "      <td>phase2</td>\n",
       "      <td>1</td>\n",
       "      <td>5</td>\n",
       "      <td>True</td>\n",
       "      <td>False</td>\n",
       "    </tr>\n",
       "  </tbody>\n",
       "</table>\n",
       "</div>"
      ],
      "text/plain": [
       "   Unnamed: 0    HR_Mean  HR_Median    HR_std  HR_Min  HR_Max     HR_AUC  \\\n",
       "0           0  77.965186      78.00  3.345290   73.23   83.37  22924.945   \n",
       "1           1  70.981097      70.57  2.517879   67.12   78.22  21930.400   \n",
       "2           2  73.371959      73.36  3.259569   67.88   80.22  21647.085   \n",
       "3           3  78.916822      77.88  4.054595   72.32   84.92  25258.905   \n",
       "4           4  77.322226      74.55  6.047603   70.52   90.15  23890.565   \n",
       "\n",
       "     Round   Phase  Individual  Frustrated  Puzzler_1  Cohort_D1_2  \n",
       "0  round_3  phase3           1           1       True        False  \n",
       "1  round_3  phase2           1           5       True        False  \n",
       "2  round_3  phase1           1           0       True        False  \n",
       "3  round_2  phase3           1           1       True        False  \n",
       "4  round_2  phase2           1           5       True        False  "
      ]
     },
     "execution_count": 5,
     "metadata": {},
     "output_type": "execute_result"
    }
   ],
   "source": [
    "# Drop rows with missing target values (Frustrated)\n",
    "data = data.dropna(subset=['Frustrated'])\n",
    "\n",
    "# Encode categorical variables if necessary\n",
    "data = pd.get_dummies(data, columns=['Puzzler', 'Cohort'], drop_first=True)\n",
    "\n",
    "# Display the first few rows of the processed data\n",
    "data.head()"
   ]
  },
  {
   "cell_type": "markdown",
   "metadata": {},
   "source": [
    "PCR first?\n",
    "\n",
    "Regression - Backward selection?\n",
    "\n",
    "ANN?"
   ]
  }
 ],
 "metadata": {
  "kernelspec": {
   "display_name": "Python 3",
   "language": "python",
   "name": "python3"
  },
  "language_info": {
   "codemirror_mode": {
    "name": "ipython",
    "version": 3
   },
   "file_extension": ".py",
   "mimetype": "text/x-python",
   "name": "python",
   "nbconvert_exporter": "python",
   "pygments_lexer": "ipython3",
   "version": "3.11.5"
  }
 },
 "nbformat": 4,
 "nbformat_minor": 2
}
